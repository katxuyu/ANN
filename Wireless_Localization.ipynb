{
  "cells": [
    {
      "cell_type": "code",
      "execution_count": null,
      "metadata": {
        "id": "tP1FgzpQjJ5b"
      },
      "outputs": [],
      "source": [
        "import tensorflow as tf\n",
        "import numpy as np\n",
        "import pandas as pd\n",
        "import matplotlib.pyplot as plt\n",
        "import seaborn as sns\n",
        "from sklearn.model_selection import train_test_split\n",
        "from sklearn import neighbors, metrics\n",
        "from sklearn.preprocessing import StandardScaler, LabelEncoder\n",
        "from sklearn.ensemble import RandomForestClassifier\n",
        "from sklearn.svm import SVC\n",
        "from sklearn import svm\n",
        "from sklearn.neural_network import MLPClassifier\n",
        "from sklearn.metrics import f1_score, accuracy_score, confusion_matrix, classification_report\n",
        "#from sklearn.linear_model import SGDClassifier"
      ]
    },
    {
      "cell_type": "code",
      "execution_count": null,
      "metadata": {
        "colab": {
          "base_uri": "https://localhost:8080/",
          "height": 206
        },
        "id": "5EqWYv7VjTKB",
        "outputId": "96dc18db-d083-4144-d75a-4b4fd6aa414c"
      },
      "outputs": [
        {
          "output_type": "execute_result",
          "data": {
            "text/html": [
              "\n",
              "  <div id=\"df-4422937d-16c9-47db-bd41-9fdf2cd7a28b\">\n",
              "    <div class=\"colab-df-container\">\n",
              "      <div>\n",
              "<style scoped>\n",
              "    .dataframe tbody tr th:only-of-type {\n",
              "        vertical-align: middle;\n",
              "    }\n",
              "\n",
              "    .dataframe tbody tr th {\n",
              "        vertical-align: top;\n",
              "    }\n",
              "\n",
              "    .dataframe thead th {\n",
              "        text-align: right;\n",
              "    }\n",
              "</style>\n",
              "<table border=\"1\" class=\"dataframe\">\n",
              "  <thead>\n",
              "    <tr style=\"text-align: right;\">\n",
              "      <th></th>\n",
              "      <th>WS1</th>\n",
              "      <th>WS2</th>\n",
              "      <th>WS3</th>\n",
              "      <th>WS4</th>\n",
              "      <th>WS5</th>\n",
              "      <th>WS6</th>\n",
              "      <th>WS7</th>\n",
              "      <th>Class</th>\n",
              "    </tr>\n",
              "  </thead>\n",
              "  <tbody>\n",
              "    <tr>\n",
              "      <th>0</th>\n",
              "      <td>-64</td>\n",
              "      <td>-56</td>\n",
              "      <td>-61</td>\n",
              "      <td>-66</td>\n",
              "      <td>-71</td>\n",
              "      <td>-82</td>\n",
              "      <td>-81</td>\n",
              "      <td>1</td>\n",
              "    </tr>\n",
              "    <tr>\n",
              "      <th>1</th>\n",
              "      <td>-68</td>\n",
              "      <td>-57</td>\n",
              "      <td>-61</td>\n",
              "      <td>-65</td>\n",
              "      <td>-71</td>\n",
              "      <td>-85</td>\n",
              "      <td>-85</td>\n",
              "      <td>1</td>\n",
              "    </tr>\n",
              "    <tr>\n",
              "      <th>2</th>\n",
              "      <td>-63</td>\n",
              "      <td>-60</td>\n",
              "      <td>-60</td>\n",
              "      <td>-67</td>\n",
              "      <td>-76</td>\n",
              "      <td>-85</td>\n",
              "      <td>-84</td>\n",
              "      <td>1</td>\n",
              "    </tr>\n",
              "    <tr>\n",
              "      <th>3</th>\n",
              "      <td>-61</td>\n",
              "      <td>-60</td>\n",
              "      <td>-68</td>\n",
              "      <td>-62</td>\n",
              "      <td>-77</td>\n",
              "      <td>-90</td>\n",
              "      <td>-80</td>\n",
              "      <td>1</td>\n",
              "    </tr>\n",
              "    <tr>\n",
              "      <th>4</th>\n",
              "      <td>-63</td>\n",
              "      <td>-65</td>\n",
              "      <td>-60</td>\n",
              "      <td>-63</td>\n",
              "      <td>-77</td>\n",
              "      <td>-81</td>\n",
              "      <td>-87</td>\n",
              "      <td>1</td>\n",
              "    </tr>\n",
              "  </tbody>\n",
              "</table>\n",
              "</div>\n",
              "      <button class=\"colab-df-convert\" onclick=\"convertToInteractive('df-4422937d-16c9-47db-bd41-9fdf2cd7a28b')\"\n",
              "              title=\"Convert this dataframe to an interactive table.\"\n",
              "              style=\"display:none;\">\n",
              "        \n",
              "  <svg xmlns=\"http://www.w3.org/2000/svg\" height=\"24px\"viewBox=\"0 0 24 24\"\n",
              "       width=\"24px\">\n",
              "    <path d=\"M0 0h24v24H0V0z\" fill=\"none\"/>\n",
              "    <path d=\"M18.56 5.44l.94 2.06.94-2.06 2.06-.94-2.06-.94-.94-2.06-.94 2.06-2.06.94zm-11 1L8.5 8.5l.94-2.06 2.06-.94-2.06-.94L8.5 2.5l-.94 2.06-2.06.94zm10 10l.94 2.06.94-2.06 2.06-.94-2.06-.94-.94-2.06-.94 2.06-2.06.94z\"/><path d=\"M17.41 7.96l-1.37-1.37c-.4-.4-.92-.59-1.43-.59-.52 0-1.04.2-1.43.59L10.3 9.45l-7.72 7.72c-.78.78-.78 2.05 0 2.83L4 21.41c.39.39.9.59 1.41.59.51 0 1.02-.2 1.41-.59l7.78-7.78 2.81-2.81c.8-.78.8-2.07 0-2.86zM5.41 20L4 18.59l7.72-7.72 1.47 1.35L5.41 20z\"/>\n",
              "  </svg>\n",
              "      </button>\n",
              "      \n",
              "  <style>\n",
              "    .colab-df-container {\n",
              "      display:flex;\n",
              "      flex-wrap:wrap;\n",
              "      gap: 12px;\n",
              "    }\n",
              "\n",
              "    .colab-df-convert {\n",
              "      background-color: #E8F0FE;\n",
              "      border: none;\n",
              "      border-radius: 50%;\n",
              "      cursor: pointer;\n",
              "      display: none;\n",
              "      fill: #1967D2;\n",
              "      height: 32px;\n",
              "      padding: 0 0 0 0;\n",
              "      width: 32px;\n",
              "    }\n",
              "\n",
              "    .colab-df-convert:hover {\n",
              "      background-color: #E2EBFA;\n",
              "      box-shadow: 0px 1px 2px rgba(60, 64, 67, 0.3), 0px 1px 3px 1px rgba(60, 64, 67, 0.15);\n",
              "      fill: #174EA6;\n",
              "    }\n",
              "\n",
              "    [theme=dark] .colab-df-convert {\n",
              "      background-color: #3B4455;\n",
              "      fill: #D2E3FC;\n",
              "    }\n",
              "\n",
              "    [theme=dark] .colab-df-convert:hover {\n",
              "      background-color: #434B5C;\n",
              "      box-shadow: 0px 1px 3px 1px rgba(0, 0, 0, 0.15);\n",
              "      filter: drop-shadow(0px 1px 2px rgba(0, 0, 0, 0.3));\n",
              "      fill: #FFFFFF;\n",
              "    }\n",
              "  </style>\n",
              "\n",
              "      <script>\n",
              "        const buttonEl =\n",
              "          document.querySelector('#df-4422937d-16c9-47db-bd41-9fdf2cd7a28b button.colab-df-convert');\n",
              "        buttonEl.style.display =\n",
              "          google.colab.kernel.accessAllowed ? 'block' : 'none';\n",
              "\n",
              "        async function convertToInteractive(key) {\n",
              "          const element = document.querySelector('#df-4422937d-16c9-47db-bd41-9fdf2cd7a28b');\n",
              "          const dataTable =\n",
              "            await google.colab.kernel.invokeFunction('convertToInteractive',\n",
              "                                                     [key], {});\n",
              "          if (!dataTable) return;\n",
              "\n",
              "          const docLinkHtml = 'Like what you see? Visit the ' +\n",
              "            '<a target=\"_blank\" href=https://colab.research.google.com/notebooks/data_table.ipynb>data table notebook</a>'\n",
              "            + ' to learn more about interactive tables.';\n",
              "          element.innerHTML = '';\n",
              "          dataTable['output_type'] = 'display_data';\n",
              "          await google.colab.output.renderOutput(dataTable, element);\n",
              "          const docLink = document.createElement('div');\n",
              "          docLink.innerHTML = docLinkHtml;\n",
              "          element.appendChild(docLink);\n",
              "        }\n",
              "      </script>\n",
              "    </div>\n",
              "  </div>\n",
              "  "
            ],
            "text/plain": [
              "   WS1  WS2  WS3  WS4  WS5  WS6  WS7  Class\n",
              "0  -64  -56  -61  -66  -71  -82  -81      1\n",
              "1  -68  -57  -61  -65  -71  -85  -85      1\n",
              "2  -63  -60  -60  -67  -76  -85  -84      1\n",
              "3  -61  -60  -68  -62  -77  -90  -80      1\n",
              "4  -63  -65  -60  -63  -77  -81  -87      1"
            ]
          },
          "metadata": {},
          "execution_count": 2
        }
      ],
      "source": [
        "data = pd.read_table('wifi_localization.txt',\n",
        "                     header = None,\n",
        "                     names=[\"WS1\", \"WS2\", \"WS3\", \"WS4\", \"WS5\", \"WS6\", \"WS7\", \"Class\"])\n",
        "data.head()"
      ]
    },
    {
      "cell_type": "code",
      "execution_count": null,
      "metadata": {
        "id": "Q3nobMLUjVc2"
      },
      "outputs": [],
      "source": [
        "data = data.to_numpy()\n",
        "X = data[:,0:-1]\n",
        "y = np.asarray([(x - 1) for x in data[:,-1]])"
      ]
    },
    {
      "cell_type": "code",
      "execution_count": null,
      "metadata": {
        "colab": {
          "base_uri": "https://localhost:8080/"
        },
        "id": "mpYM7SdrkDSp",
        "outputId": "92c24d70-e71b-4fb0-a8ff-d61f6256485d"
      },
      "outputs": [
        {
          "output_type": "stream",
          "name": "stdout",
          "text": [
            "(1400, 7)\n",
            "(600, 7)\n",
            "(1400,)\n",
            "(600,)\n"
          ]
        }
      ],
      "source": [
        "X_train, X_test, y_train, y_test = train_test_split(X, y, test_size=0.3)\n",
        "print(X_train.shape)\n",
        "print(X_test.shape)\n",
        "print(y_train.shape)\n",
        "print(y_test.shape)"
      ]
    },
    {
      "cell_type": "code",
      "execution_count": null,
      "metadata": {
        "id": "UcS4YloVkHX5"
      },
      "outputs": [],
      "source": [
        "loss_values = []\n",
        "f1s = []\n",
        "n_neurons = 1\n",
        "inds = []\n",
        "for i in range(1, 64):\n",
        "  for j in range(1, 64):\n",
        "    mlpc = MLPClassifier(activation='relu',\n",
        "                         solver='adam',\n",
        "                         hidden_layer_sizes=(i,j),\n",
        "                         max_iter=1000,\n",
        "                         random_state=1,\n",
        "                         learning_rate='adaptive',\n",
        "                         early_stopping=True)\n",
        "    mlpc.fit(X_train, y_train)\n",
        "    pred_mlpc = mlpc.predict(X_test)\n",
        "    f1s.append(f1_score(y_test, pred_mlpc, zero_division=1, average='weighted'))\n",
        "    loss_values.append(mlpc.loss_curve_)\n",
        "    inds.append([i,j])\n",
        "    n_neurons = n_neurons + 1"
      ]
    },
    {
      "cell_type": "code",
      "execution_count": null,
      "metadata": {
        "colab": {
          "base_uri": "https://localhost:8080/",
          "height": 319
        },
        "id": "JCNv5qhYkLP5",
        "outputId": "1c5a88b9-0b3e-4f53-a33f-6a61bfefcf47"
      },
      "outputs": [
        {
          "output_type": "stream",
          "name": "stdout",
          "text": [
            "0.9832826558748596\n",
            "[32, 40]\n"
          ]
        },
        {
          "output_type": "display_data",
          "data": {
            "image/png": "[encoded data removed]",
            "text/plain": [
              "<Figure size 432x288 with 1 Axes>"
            ]
          },
          "metadata": {
            "needs_background": "light"
          }
        }
      ],
      "source": [
        "# plt.figure(figsize=(20, 15), dpi=80)\n",
        "# count = 0\n",
        "# for i in range(7):\n",
        "#     for j in range(9):\n",
        "#         ax = plt.subplot2grid((7,9), (i,j))\n",
        "#         ax.plot(loss_values[count])\n",
        "#         ax.set_title(f\"{count+1} - {str(round(f1s[count], 2))}\")\n",
        "#         count = count + 1\n",
        "\n",
        "print(max(f1s))\n",
        "print(inds[f1s.index(max(f1s))])\n",
        "plt.plot(loss_values[f1s.index(max(f1s))])\n",
        "plt.xlabel('n Iteration', fontsize=15)\n",
        "plt.ylabel('', fontsize=15)\n",
        "plt.show()\n"
      ]
    },
    {
      "cell_type": "code",
      "execution_count": null,
      "metadata": {
        "colab": {
          "base_uri": "https://localhost:8080/"
        },
        "id": "VdLQMI7WKUxs",
        "outputId": "69ff3654-203d-4fe9-94d8-b7fead2cce45"
      },
      "outputs": [
        {
          "output_type": "execute_result",
          "data": {
            "text/plain": [
              "array([0.88 , 0.875, 0.775])"
            ]
          },
          "metadata": {},
          "execution_count": 7
        }
      ],
      "source": [
        "from sklearn.model_selection import cross_val_score\n",
        "cross_val_score(mlpc, X_test, y_test, cv=3)"
      ]
    },
    {
      "cell_type": "code",
      "execution_count": null,
      "metadata": {
        "colab": {
          "base_uri": "https://localhost:8080/"
        },
        "id": "u2mAalGmrJ3f",
        "outputId": "eefc8134-734a-460a-a92f-2020d8d9f9bf"
      },
      "outputs": [
        {
          "output_type": "execute_result",
          "data": {
            "text/plain": [
              "MLPClassifier(early_stopping=True, hidden_layer_sizes=(32, 40),\n",
              "              learning_rate='adaptive', max_iter=1000, random_state=1)"
            ]
          },
          "metadata": {},
          "execution_count": 37
        }
      ],
      "source": [
        "mlpc2 = MLPClassifier(activation='relu',\n",
        "                         solver='adam',\n",
        "                         hidden_layer_sizes=(32, 40),\n",
        "                         max_iter=1000,\n",
        "                         random_state=1,\n",
        "                         learning_rate='adaptive',\n",
        "                         early_stopping=True)\n",
        "mlpc2.fit(X_train, y_train)\n",
        "\n"
      ]
    },
    {
      "cell_type": "code",
      "execution_count": null,
      "metadata": {
        "colab": {
          "base_uri": "https://localhost:8080/"
        },
        "id": "pbhZ2jAh_Q-b",
        "outputId": "0b63e500-a723-45b2-a826-b83ce7391ac2"
      },
      "outputs": [
        {
          "output_type": "stream",
          "name": "stdout",
          "text": [
            "              precision    recall  f1-score   support\n",
            "\n",
            "           0       0.98      0.97      0.98       144\n",
            "           1       0.98      0.88      0.93       146\n",
            "           2       0.88      0.91      0.90       161\n",
            "           3       0.94      1.00      0.97       149\n",
            "\n",
            "    accuracy                           0.94       600\n",
            "   macro avg       0.94      0.94      0.94       600\n",
            "weighted avg       0.94      0.94      0.94       600\n",
            "\n",
            "0.9416666666666667\n"
          ]
        }
      ],
      "source": [
        "from sklearn.metrics import precision_score, recall_score\n",
        "from numpy import array, rec\n",
        "pred_mlpc2 = mlpc2.predict(X_test)\n",
        "print(classification_report(y_test, pred_mlpc2))\n",
        "print(accuracy_score(y_test, pred_mlpc2))\n",
        "\n",
        "# ag = y_test.argsort()\n",
        "# xx, yy = X_test[ag], y_test[ag]\n",
        "# xx0, yy0 = xx[0:150], yy[0:150]\n",
        "# xx1, yy1 = xx[150:299], yy[150:299]\n",
        "# xx2, yy2 = xx[299:447], yy[299:447]\n",
        "# xx3, yy3 = xx[447:], yy[447:]\n",
        "\n",
        "# print(yy0, yy1, yy2, yy3)\n",
        "# print(yy0.shape, yy1.shape, yy2.shape, yy3.shape)\n",
        "# print(yy.shape)\n",
        "\n"
      ]
    },
    {
      "cell_type": "code",
      "execution_count": null,
      "metadata": {
        "colab": {
          "base_uri": "https://localhost:8080/"
        },
        "id": "lketw3XhYuzR",
        "outputId": "c0da8849-b716-4e73-e71c-f539f1e3ebcc"
      },
      "outputs": [
        {
          "output_type": "stream",
          "name": "stdout",
          "text": [
            "0.9415451753160117\n"
          ]
        }
      ],
      "source": [
        "pred_mlpc2 = mlpc2.predict(X_test)\n",
        "# print(f1_score(yy3, pred_mlpc2, zero_division=1, average='weighted'))\n",
        "# print(accuracy_score(yy3, pred_mlpc2))\n",
        "# print(precision_score(yy3, pred_mlpc2, zero_division=1, average='weighted'))\n",
        "# print(recall_score(yy3, pred_mlpc2, zero_division=1, average='weighted'))\n",
        "print(f1_score(y_test, pred_mlpc2, zero_division=1, average='weighted'))"
      ]
    },
    {
      "cell_type": "code",
      "execution_count": null,
      "metadata": {
        "id": "JuvmVSmvbDEL"
      },
      "outputs": [],
      "source": [
        "from sklearn.utils.multiclass import unique_labels\n",
        "#Confusion Matrix\n",
        "def plot2(y_true, y_pred):\n",
        "  labels = unique_labels(y_test)\n",
        "  column = [f'Predicted {label}' for label in labels]\n",
        "  indices = [f'Actual {label}' for label in labels]\n",
        "  table = pd.DataFrame(confusion_matrix(y_true,y_pred),\n",
        "                       columns=column, index=indices)\n",
        "\n",
        "  return sns.heatmap(table, annot=True, fmt='d', cmap='viridis')"
      ]
    },
    {
      "cell_type": "code",
      "execution_count": null,
      "metadata": {
        "colab": {
          "base_uri": "https://localhost:8080/",
          "height": 282
        },
        "id": "iretRTwvgXL5",
        "outputId": "535cdbca-a121-40c3-db2b-a53f35674c64"
      },
      "outputs": [
        {
          "output_type": "execute_result",
          "data": {
            "text/plain": [
              "<matplotlib.axes._subplots.AxesSubplot at 0x7ff871ae9350>"
            ]
          },
          "metadata": {},
          "execution_count": 12
        },
        {
          "output_type": "display_data",
          "data": {
            "image/png": "[encoded data removed]",
            "text/plain": [
              "<Figure size 432x288 with 2 Axes>"
            ]
          },
          "metadata": {
            "needs_background": "light"
          }
        }
      ],
      "source": [
        "plot2(y_test, pred_mlpc2)"
      ]
    },
    {
      "cell_type": "code",
      "execution_count": null,
      "metadata": {
        "colab": {
          "base_uri": "https://localhost:8080/",
          "height": 284
        },
        "id": "WS6PCKlzhTW7",
        "outputId": "aac794ee-93f2-477c-d686-80f0c3e3327d"
      },
      "outputs": [
        {
          "output_type": "display_data",
          "data": {
            "image/png": "[encoded data removed]",
            "text/plain": [
              "<Figure size 432x288 with 1 Axes>"
            ]
          },
          "metadata": {
            "needs_background": "light"
          }
        }
      ],
      "source": [
        "plt.scatter(y_test, pred_mlpc2, c='crimson')\n",
        "\n",
        "p1 = max(max(pred_mlpc2), max(y_test))\n",
        "p2 = min(min(pred_mlpc2), min(y_test))\n",
        "plt.plot([p1, p2], [p1, p2], 'b-')\n",
        "plt.xlabel('True Values', fontsize=15)\n",
        "plt.ylabel('Predictions', fontsize=15)\n",
        "plt.axis('equal')\n",
        "plt.show()"
      ]
    },
    {
      "cell_type": "code",
      "execution_count": null,
      "metadata": {
        "colab": {
          "base_uri": "https://localhost:8080/",
          "height": 282
        },
        "id": "vfuuC4l8mTnj",
        "outputId": "e97855a6-5ef2-4732-8010-ab762daf2a14"
      },
      "outputs": [
        {
          "output_type": "execute_result",
          "data": {
            "text/plain": [
              "[<matplotlib.lines.Line2D at 0x7ff871989950>]"
            ]
          },
          "metadata": {},
          "execution_count": 14
        },
        {
          "output_type": "display_data",
          "data": {
            "image/png": "[encoded data removed]",
            "text/plain": [
              "<Figure size 432x288 with 1 Axes>"
            ]
          },
          "metadata": {
            "needs_background": "light"
          }
        }
      ],
      "source": [
        "plt.plot(mlpc2.loss_curve_)"
      ]
    },
    {
      "cell_type": "code",
      "execution_count": null,
      "metadata": {
        "colab": {
          "base_uri": "https://localhost:8080/"
        },
        "id": "EjG3zwMii8Fl",
        "outputId": "38e0d80f-34a0-4209-e7cd-96b2e8c94094"
      },
      "outputs": [
        {
          "output_type": "execute_result",
          "data": {
            "text/plain": [
              "MLPClassifier(early_stopping=True, hidden_layer_sizes=(64, 49), max_iter=1000,\n",
              "              random_state=1, solver='sgd')"
            ]
          },
          "metadata": {},
          "execution_count": 15
        }
      ],
      "source": [
        "\n",
        "mlpc3 = MLPClassifier(activation='relu',\n",
        "                      solver='sgd',\n",
        "                      hidden_layer_sizes=(64, 49),\n",
        "                      max_iter=1000,\n",
        "                      random_state=1,\n",
        "                      nesterovs_momentum= True,\n",
        "                      learning_rate='constant',\n",
        "                      early_stopping=True)\n",
        "mlpc3.fit(X_train, y_train)\n"
      ]
    },
    {
      "cell_type": "code",
      "execution_count": null,
      "metadata": {
        "colab": {
          "base_uri": "https://localhost:8080/"
        },
        "id": "AWBu68-TgWbk",
        "outputId": "2027f5e1-179d-4c9e-db7b-16de7d191ac2"
      },
      "outputs": [
        {
          "output_type": "stream",
          "name": "stdout",
          "text": [
            "0.9629797440449941\n"
          ]
        }
      ],
      "source": [
        "pred_mlpc3 = mlpc3.predict(X_test)\n",
        "print(f1_score(y_test, pred_mlpc3, zero_division=1, average='weighted'))\n",
        "# plt.plot(mlpc3.loss_curve_)"
      ]
    },
    {
      "cell_type": "code",
      "execution_count": null,
      "metadata": {
        "id": "yBopCVYveA36"
      },
      "outputs": [],
      "source": [
        "mlpc5 = MLPClassifier(activation='tanh',\n",
        "                      solver='sgd',\n",
        "                      hidden_layer_sizes=(34, 44),\n",
        "                      max_iter=1000,\n",
        "                      random_state=1,\n",
        "                      nesterovs_momentum= True,\n",
        "                      learning_rate='constant',\n",
        "                      early_stopping=True)\n",
        "mlpc5.fit(X_train, y_train)\n",
        "pred_mlpc5 = mlpc5.predict(X_test)"
      ]
    },
    {
      "cell_type": "code",
      "execution_count": null,
      "metadata": {
        "id": "hTdbObjLdK7x"
      },
      "outputs": [],
      "source": [
        "mlpc4 = MLPClassifier(activation='tanh',\n",
        "                         solver='adam',\n",
        "                         hidden_layer_sizes=(34, 44),\n",
        "                         max_iter=1000,\n",
        "                         random_state=1,\n",
        "                         learning_rate='adaptive',\n",
        "                         early_stopping=True)\n",
        "mlpc4.fit(X_train, y_train)\n",
        "pred_mlpc4 = mlpc4.predict(X_test)"
      ]
    },
    {
      "cell_type": "code",
      "execution_count": null,
      "metadata": {
        "colab": {
          "base_uri": "https://localhost:8080/",
          "height": 284
        },
        "id": "eHgE-tyWnQaL",
        "outputId": "28211d00-2260-45f7-a4d4-cf7a8f5f63ef"
      },
      "outputs": [
        {
          "output_type": "display_data",
          "data": {
            "image/png": "[encoded data removed]",
            "text/plain": [
              "<Figure size 432x288 with 1 Axes>"
            ]
          },
          "metadata": {
            "needs_background": "light"
          }
        }
      ],
      "source": [
        "loss1 = mlpc2.loss_curve_\n",
        "loss2 = mlpc3.loss_curve_\n",
        "loss3 = mlpc4.loss_curve_\n",
        "loss4 = mlpc5.loss_curve_\n",
        "plt.plot(range(0,len(loss1)), loss1, 'k', label='reLU ADAM')\n",
        "plt.plot(range(0,len(loss2)), loss2, 'b', label='reLU SGD')\n",
        "# plt.plot(range(0,len(loss3)), loss3, 'r', label='Sigmoid ADAM')\n",
        "# plt.plot(range(0,len(loss4)), loss4, 'm', label='Sigmoid SGD')\n",
        "plt.legend()\n",
        "plt.ylabel('Mean Square Error (MSE)', fontsize=15)\n",
        "plt.xlabel('n Iteration', fontsize=15)\n",
        "plt.show()\n"
      ]
    },
    {
      "cell_type": "code",
      "execution_count": null,
      "metadata": {
        "colab": {
          "base_uri": "https://localhost:8080/"
        },
        "id": "iWzefkYUro26",
        "outputId": "259b0751-a9e8-400c-b8b6-c607fc38839a"
      },
      "outputs": [
        {
          "output_type": "stream",
          "name": "stdout",
          "text": [
            "0.9612797698575173\n"
          ]
        }
      ],
      "source": [
        "mlpc22 = MLPClassifier(activation='relu',\n",
        "                         solver='adam',\n",
        "                         hidden_layer_sizes=(39, 49),\n",
        "                         max_iter=1000,\n",
        "                         random_state=1,\n",
        "                         learning_rate='adaptive',\n",
        "                         early_stopping=True)\n",
        "mlpc22.fit(X_train, y_train)\n",
        "pred_mlpc3 = mlpc22.predict(X_test)\n",
        "print(f1_score(y_test, pred_mlpc3, zero_division=1, average='weighted'))"
      ]
    },
    {
      "cell_type": "code",
      "execution_count": null,
      "metadata": {
        "colab": {
          "base_uri": "https://localhost:8080/"
        },
        "id": "xXZeLFf2utEJ",
        "outputId": "590def51-37c8-440e-96a0-ffb5f0663df2"
      },
      "outputs": [
        {
          "output_type": "stream",
          "name": "stdout",
          "text": [
            "WS1 =  -71 -52 -60.182\n",
            "WS2 =  -66 -46 -55.224\n",
            "WS3 =  -60 -40 -50.65\n",
            "WS4 =  -77 -52 -61.316\n",
            "WS5 =  -64 -36 -49.454\n",
            "WS6 =  -96 -76 -87.008\n",
            "WS7 =  -98 -78 -86.99\n"
          ]
        }
      ],
      "source": [
        "from statistics import mean\n",
        "ag = y_test.argsort()\n",
        "xx, yy = X[ag], y[ag]\n",
        "xx0, yy0 = X[0:500], y[0:500]\n",
        "xx1, yy1 = X[500:1000], y[500:1000]\n",
        "xx2, yy2 = X[1000:1500], y[1000:1500]\n",
        "xx3, yy3 = X[1500:], y[1500:]\n",
        "\n",
        "for j in range(7):\n",
        "  arr = []\n",
        "  for i in xx3:\n",
        "    arr.append(round(np.average(i[j])))\n",
        "  print(f\"WS{j+1} = \", min(arr), max(arr), mean(arr))\n",
        "\n",
        "# print(xx0)\n"
      ]
    },
    {
      "cell_type": "code",
      "execution_count": null,
      "metadata": {
        "colab": {
          "base_uri": "https://localhost:8080/"
        },
        "id": "Y6PQgkqu3DTN",
        "outputId": "27ef6556-7099-401e-b952-e7cb309e7f9e"
      },
      "outputs": [
        {
          "output_type": "stream",
          "name": "stdout",
          "text": [
            "WS7 =  -70 -60 -64.402\n"
          ]
        }
      ],
      "source": [
        "arr = []\n",
        "for i in xx3:\n",
        "  arr.append(round(np.average(i)))\n",
        "\n",
        "print(f\"WS{j+1} = \", min(arr), max(arr), mean(arr))\n",
        "\n"
      ]
    },
    {
      "cell_type": "code",
      "execution_count": null,
      "metadata": {
        "id": "hiQjTY7gIVA6"
      },
      "outputs": [],
      "source": [
        "from sklearn.linear_model import LogisticRegression\n",
        "from sklearn.svm import SVC\n",
        "from sklearn.ensemble import RandomForestClassifier\n",
        "import numpy as np\n",
        "from sklearn.datasets import load_digits\n",
        "import matplotlib.pyplot as plt\n",
        "digits = load_digits()"
      ]
    },
    {
      "cell_type": "code",
      "execution_count": null,
      "metadata": {
        "colab": {
          "base_uri": "https://localhost:8080/"
        },
        "id": "YIOcfmBRMbzK",
        "outputId": "95982943-f9ea-4486-aed2-108040ae8580"
      },
      "outputs": [
        {
          "output_type": "execute_result",
          "data": {
            "text/plain": [
              "0.9683333333333334"
            ]
          },
          "metadata": {},
          "execution_count": 24
        }
      ],
      "source": [
        "lr = LogisticRegression(solver='liblinear',multi_class='ovr')\n",
        "lr.fit(X_train, y_train)\n",
        "lr.score(X_test, y_test)"
      ]
    },
    {
      "cell_type": "code",
      "execution_count": null,
      "metadata": {
        "colab": {
          "base_uri": "https://localhost:8080/"
        },
        "id": "5WjO9O4r2nXn",
        "outputId": "512a234f-2284-483d-b7fb-8e0293dd1db9"
      },
      "outputs": [
        {
          "output_type": "execute_result",
          "data": {
            "text/plain": [
              "0.7533333333333333"
            ]
          },
          "metadata": {},
          "execution_count": 25
        }
      ],
      "source": [
        "svm = SVC(gamma='auto')\n",
        "svm.fit(X_train, y_train)\n",
        "svm.score(X_test, y_test)"
      ]
    },
    {
      "cell_type": "code",
      "execution_count": null,
      "metadata": {
        "colab": {
          "base_uri": "https://localhost:8080/"
        },
        "id": "cDX62UhN2p9I",
        "outputId": "681090a4-94eb-4f77-9f77-de874c587366"
      },
      "outputs": [
        {
          "output_type": "execute_result",
          "data": {
            "text/plain": [
              "0.9833333333333333"
            ]
          },
          "metadata": {},
          "execution_count": 26
        }
      ],
      "source": [
        "rf = RandomForestClassifier(n_estimators=40)\n",
        "rf.fit(X_train, y_train)\n",
        "rf.score(X_test, y_test)"
      ]
    },
    {
      "cell_type": "code",
      "execution_count": null,
      "metadata": {
        "colab": {
          "base_uri": "https://localhost:8080/"
        },
        "id": "Qp1y1f5-2wZk",
        "outputId": "dac38e42-4086-458e-f3c7-76b90d172026"
      },
      "outputs": [
        {
          "output_type": "execute_result",
          "data": {
            "text/plain": [
              "array([0.975, 0.955, 0.96 ])"
            ]
          },
          "metadata": {},
          "execution_count": 27
        }
      ],
      "source": [
        "from sklearn.model_selection import cross_val_score\n",
        "cross_val_score(LogisticRegression(solver='liblinear',multi_class='ovr'), X_test, y_test,cv=3)"
      ]
    },
    {
      "cell_type": "code",
      "execution_count": null,
      "metadata": {
        "colab": {
          "base_uri": "https://localhost:8080/"
        },
        "id": "ugfJ_8G335PM",
        "outputId": "379b091f-e401-408d-dbf0-05ebab6b9ca0"
      },
      "outputs": [
        {
          "output_type": "execute_result",
          "data": {
            "text/plain": [
              "array([0.725, 0.52 , 0.49 ])"
            ]
          },
          "metadata": {},
          "execution_count": 28
        }
      ],
      "source": [
        "cross_val_score(SVC(gamma='auto'), X_test, y_test,cv=3)"
      ]
    },
    {
      "cell_type": "code",
      "execution_count": null,
      "metadata": {
        "colab": {
          "base_uri": "https://localhost:8080/"
        },
        "id": "DLKK_S4z4Lb9",
        "outputId": "d1816555-d497-444a-e09c-6bbfd40b1dbd"
      },
      "outputs": [
        {
          "output_type": "execute_result",
          "data": {
            "text/plain": [
              "array([0.975, 0.965, 0.97 ])"
            ]
          },
          "metadata": {},
          "execution_count": 29
        }
      ],
      "source": [
        "cross_val_score(RandomForestClassifier(n_estimators=40),X_test, y_test,cv=3)"
      ]
    },
    {
      "cell_type": "code",
      "execution_count": null,
      "metadata": {
        "colab": {
          "base_uri": "https://localhost:8080/"
        },
        "id": "0EjdA_7Y4-v1",
        "outputId": "93fba452-ff41-4838-eebb-e412cb9fdf1c"
      },
      "outputs": [
        {
          "output_type": "execute_result",
          "data": {
            "text/plain": [
              "array([0.88 , 0.875, 0.775])"
            ]
          },
          "metadata": {},
          "execution_count": 30
        }
      ],
      "source": [
        "cross_val_score(mlpc, X_test, y_test, cv=3)"
      ]
    },
    {
      "cell_type": "code",
      "execution_count": null,
      "metadata": {
        "id": "wCm5mEPMmchm"
      },
      "outputs": [],
      "source": [
        "# arr = [[]]\n",
        "\n",
        "# for i in mlpc2.coefs_[0]:\n",
        "#   print(\"\\n\")\n",
        "#   for j in i:\n",
        "#     print()\n",
        "#[coef.shape for coef in mlpc2.coefs_]\n",
        "import csv\n",
        "\n",
        "\n",
        "with open(\"new_file.csv\",\"w+\") as my_csv:\n",
        "    csvWriter = csv.writer(my_csv,delimiter=',')\n",
        "    csvWriter.writerows(mlpc2.coefs_[2])"
      ]
    },
    {
      "cell_type": "code",
      "execution_count": null,
      "metadata": {
        "colab": {
          "base_uri": "https://localhost:8080/",
          "height": 715
        },
        "id": "50JA3tBtn8Ue",
        "outputId": "b89b8ca3-b9f3-4b6b-f84c-9a7450c897a9"
      },
      "outputs": [
        {
          "output_type": "stream",
          "name": "stdout",
          "text": [
            "epoch:  0\n",
            "epoch:  1\n",
            "epoch:  2\n",
            "epoch:  3\n",
            "epoch:  4\n",
            "epoch:  5\n",
            "epoch:  6\n",
            "epoch:  7\n",
            "epoch:  8\n",
            "epoch:  9\n",
            "epoch:  10\n",
            "epoch:  11\n",
            "epoch:  12\n",
            "epoch:  13\n",
            "epoch:  14\n",
            "epoch:  15\n",
            "epoch:  16\n",
            "epoch:  17\n",
            "epoch:  18\n",
            "epoch:  19\n",
            "epoch:  20\n",
            "epoch:  21\n",
            "epoch:  22\n",
            "epoch:  23\n",
            "epoch:  24\n"
          ]
        },
        {
          "output_type": "display_data",
          "data": {
            "image/png": "[encoded data removed]",
            "text/plain": [
              "<Figure size 432x288 with 1 Axes>"
            ]
          },
          "metadata": {
            "needs_background": "light"
          }
        }
      ],
      "source": [
        "import numpy as np\n",
        "import matplotlib.pyplot as plt\n",
        "from sklearn.neural_network import MLPClassifier\n",
        "np.random.seed(1)\n",
        "\n",
        "\n",
        "mlp = MLPClassifier(hidden_layer_sizes=(32, 40), max_iter=1000, alpha=1e-4,\n",
        "                    solver='adam', verbose=0, tol=1e-8, random_state=1,\n",
        "                    learning_rate_init=.01)\n",
        "\n",
        "\"\"\" Home-made mini-batch learning\n",
        "    -> not to be used in out-of-core setting!\n",
        "\"\"\"\n",
        "N_TRAIN_SAMPLES = X_train.shape[0]\n",
        "N_EPOCHS = 25\n",
        "N_BATCH = 128\n",
        "N_CLASSES = np.unique(y_train)\n",
        "\n",
        "scores_train = []\n",
        "scores_test = []\n",
        "\n",
        "# EPOCH\n",
        "epoch = 0\n",
        "while epoch < N_EPOCHS:\n",
        "    print('epoch: ', epoch)\n",
        "    # SHUFFLING\n",
        "    random_perm = np.random.permutation(X_train.shape[0])\n",
        "    mini_batch_index = 0\n",
        "    while True:\n",
        "        # MINI-BATCH\n",
        "        indices = random_perm[mini_batch_index:mini_batch_index + N_BATCH]\n",
        "        mlp.partial_fit(X_train[indices], y_train[indices], classes=N_CLASSES)\n",
        "        mini_batch_index += N_BATCH\n",
        "\n",
        "        if mini_batch_index >= N_TRAIN_SAMPLES:\n",
        "            break\n",
        "\n",
        "    # SCORE TRAIN\n",
        "    scores_train.append(mlp.score(X_train, y_train))\n",
        "\n",
        "    # SCORE TEST\n",
        "    scores_test.append(mlp.score(X_test, y_test))\n",
        "\n",
        "    epoch += 1\n",
        "\n",
        "\"\"\" Plot \"\"\"\n",
        "plt.plot(scores_train, color='green', alpha=0.8, label='Train')\n",
        "plt.plot(scores_test, color='magenta', alpha=0.8, label='Test')\n",
        "# plt.plot(mlpc2.validation_scores_, color='blue', alpha=0.8, label='Validation')\n",
        "plt.xlabel('Epochs')\n",
        "plt.ylabel('Accuracy')\n",
        "plt.legend(loc='upper left')\n",
        "plt.show()"
      ]
    },
    {
      "cell_type": "code",
      "execution_count": null,
      "metadata": {
        "id": "GHtLobrYhKR0"
      },
      "outputs": [],
      "source": [
        "from sklearn.metrics import mean_absolute_error\n",
        "\n",
        "max_iter = 1000\n",
        "errors = []\n",
        "for i in range(max_iter):\n",
        "    mlp.partial_fit(X_train, y_train, classes=[0, 1, 2, 3])\n",
        "    pred = mlp.predict(X_test)\n",
        "    errors.append(mean_absolute_error(y_test, pred))\n",
        "\n"
      ]
    },
    {
      "cell_type": "code",
      "execution_count": null,
      "metadata": {
        "colab": {
          "base_uri": "https://localhost:8080/",
          "height": 284
        },
        "id": "MlsOueAOlSQ7",
        "outputId": "e8250147-ffac-47eb-e239-7e9e0af4f832"
      },
      "outputs": [
        {
          "output_type": "display_data",
          "data": {
            "image/png": "[encoded data removed]",
            "text/plain": [
              "<Figure size 432x288 with 1 Axes>"
            ]
          },
          "metadata": {
            "needs_background": "light"
          }
        }
      ],
      "source": [
        "loss1 = mlp.loss_curve_\n",
        "loss2 =  errors\n",
        "plt.plot(range(0,len(loss1)), loss1, 'green', label='train')\n",
        "plt.plot(range(0,len(loss2)), loss2, 'magenta', label='test')\n",
        "\n",
        "plt.legend()\n",
        "plt.ylabel('Mean Square Error (MSE)', fontsize=15)\n",
        "plt.xlabel('n Iteration', fontsize=15)\n",
        "plt.show()"
      ]
    },
    {
      "cell_type": "code",
      "execution_count": null,
      "metadata": {
        "colab": {
          "base_uri": "https://localhost:8080/",
          "height": 301
        },
        "id": "EIFxzUP-lsyo",
        "outputId": "543129cf-67aa-40ab-e05f-03445949b578"
      },
      "outputs": [
        {
          "output_type": "execute_result",
          "data": {
            "text/plain": [
              "Text(0.5, 0, 'n Iteration')"
            ]
          },
          "metadata": {},
          "execution_count": 43
        },
        {
          "output_type": "display_data",
          "data": {
            "image/png": "[encoded data removed]",
            "text/plain": [
              "<Figure size 432x288 with 1 Axes>"
            ]
          },
          "metadata": {
            "needs_background": "light"
          }
        }
      ],
      "source": [
        "plt.plot(mlpc2.validation_scores_)\n",
        "plt.ylabel('Accuracy Score', fontsize=15)\n",
        "plt.xlabel('n Iteration', fontsize=15)"
      ]
    },
    {
      "cell_type": "code",
      "execution_count": null,
      "metadata": {
        "id": "RuF0iB4kq4Nt"
      },
      "outputs": [],
      "source": []
    }
  ],
  "metadata": {
    "colab": {
      "provenance": []
    },
    "kernelspec": {
      "display_name": "Python 3",
      "name": "python3"
    },
    "language_info": {
      "name": "python"
    }
  },
  "nbformat": 4,
  "nbformat_minor": 0
}